{
  "nbformat": 4,
  "nbformat_minor": 0,
  "metadata": {
    "colab": {
      "name": "Using Word2Vec Pre-Trained Word Embeddings .ipynb",
      "provenance": []
    },
    "kernelspec": {
      "name": "python3",
      "display_name": "Python 3"
    },
    "language_info": {
      "name": "python"
    }
  },
  "cells": [
    {
      "cell_type": "markdown",
      "metadata": {
        "id": "tGO4gpa8Xqds"
      },
      "source": [
        "## **Word2Vec**"
      ]
    },
    {
      "cell_type": "code",
      "metadata": {
        "colab": {
          "base_uri": "https://localhost:8080/"
        },
        "id": "X3jCJf_V3Tv4",
        "outputId": "7d830bb8-b928-4955-d9ef-4a3fc7a177ad"
      },
      "source": [
        "import pandas as pd\n",
        "import nltk\n",
        "nltk.download('punkt')"
      ],
      "execution_count": null,
      "outputs": [
        {
          "output_type": "stream",
          "name": "stdout",
          "text": [
            "[nltk_data] Downloading package punkt to /root/nltk_data...\n",
            "[nltk_data]   Unzipping tokenizers/punkt.zip.\n"
          ]
        },
        {
          "output_type": "execute_result",
          "data": {
            "text/plain": [
              "True"
            ]
          },
          "metadata": {},
          "execution_count": 2
        }
      ]
    },
    {
      "cell_type": "code",
      "metadata": {
        "id": "5Vn2wJnmxRaM"
      },
      "source": [
        "path =\"/content/drive/MyDrive/train.csv\""
      ],
      "execution_count": null,
      "outputs": []
    },
    {
      "cell_type": "code",
      "metadata": {
        "colab": {
          "base_uri": "https://localhost:8080/",
          "height": 203
        },
        "id": "7vQHxyKa5Wh8",
        "outputId": "2f9342de-3709-42f4-9e3f-b47f5208cc19"
      },
      "source": [
        "df= pd.read_csv(path)\n",
        "df.head()"
      ],
      "execution_count": null,
      "outputs": [
        {
          "output_type": "execute_result",
          "data": {
            "text/html": [
              "<div>\n",
              "<style scoped>\n",
              "    .dataframe tbody tr th:only-of-type {\n",
              "        vertical-align: middle;\n",
              "    }\n",
              "\n",
              "    .dataframe tbody tr th {\n",
              "        vertical-align: top;\n",
              "    }\n",
              "\n",
              "    .dataframe thead th {\n",
              "        text-align: right;\n",
              "    }\n",
              "</style>\n",
              "<table border=\"1\" class=\"dataframe\">\n",
              "  <thead>\n",
              "    <tr style=\"text-align: right;\">\n",
              "      <th></th>\n",
              "      <th>id</th>\n",
              "      <th>qid1</th>\n",
              "      <th>qid2</th>\n",
              "      <th>question1</th>\n",
              "      <th>question2</th>\n",
              "      <th>is_duplicate</th>\n",
              "    </tr>\n",
              "  </thead>\n",
              "  <tbody>\n",
              "    <tr>\n",
              "      <th>0</th>\n",
              "      <td>0</td>\n",
              "      <td>1</td>\n",
              "      <td>2</td>\n",
              "      <td>What is the step by step guide to invest in sh...</td>\n",
              "      <td>What is the step by step guide to invest in sh...</td>\n",
              "      <td>0</td>\n",
              "    </tr>\n",
              "    <tr>\n",
              "      <th>1</th>\n",
              "      <td>1</td>\n",
              "      <td>3</td>\n",
              "      <td>4</td>\n",
              "      <td>What is the story of Kohinoor (Koh-i-Noor) Dia...</td>\n",
              "      <td>What would happen if the Indian government sto...</td>\n",
              "      <td>0</td>\n",
              "    </tr>\n",
              "    <tr>\n",
              "      <th>2</th>\n",
              "      <td>2</td>\n",
              "      <td>5</td>\n",
              "      <td>6</td>\n",
              "      <td>How can I increase the speed of my internet co...</td>\n",
              "      <td>How can Internet speed be increased by hacking...</td>\n",
              "      <td>0</td>\n",
              "    </tr>\n",
              "    <tr>\n",
              "      <th>3</th>\n",
              "      <td>3</td>\n",
              "      <td>7</td>\n",
              "      <td>8</td>\n",
              "      <td>Why am I mentally very lonely? How can I solve...</td>\n",
              "      <td>Find the remainder when [math]23^{24}[/math] i...</td>\n",
              "      <td>0</td>\n",
              "    </tr>\n",
              "    <tr>\n",
              "      <th>4</th>\n",
              "      <td>4</td>\n",
              "      <td>9</td>\n",
              "      <td>10</td>\n",
              "      <td>Which one dissolve in water quikly sugar, salt...</td>\n",
              "      <td>Which fish would survive in salt water?</td>\n",
              "      <td>0</td>\n",
              "    </tr>\n",
              "  </tbody>\n",
              "</table>\n",
              "</div>"
            ],
            "text/plain": [
              "   id  qid1  ...                                          question2 is_duplicate\n",
              "0   0     1  ...  What is the step by step guide to invest in sh...            0\n",
              "1   1     3  ...  What would happen if the Indian government sto...            0\n",
              "2   2     5  ...  How can Internet speed be increased by hacking...            0\n",
              "3   3     7  ...  Find the remainder when [math]23^{24}[/math] i...            0\n",
              "4   4     9  ...            Which fish would survive in salt water?            0\n",
              "\n",
              "[5 rows x 6 columns]"
            ]
          },
          "metadata": {},
          "execution_count": 3
        }
      ]
    },
    {
      "cell_type": "code",
      "metadata": {
        "colab": {
          "base_uri": "https://localhost:8080/"
        },
        "id": "LnORFjKg5eQh",
        "outputId": "07362cd7-7265-493a-b80a-45746945feb3"
      },
      "source": [
        "df.shape"
      ],
      "execution_count": null,
      "outputs": [
        {
          "output_type": "execute_result",
          "data": {
            "text/plain": [
              "(404290, 6)"
            ]
          },
          "metadata": {},
          "execution_count": 4
        }
      ]
    },
    {
      "cell_type": "markdown",
      "metadata": {
        "id": "_-GstZbbxENA"
      },
      "source": [
        "To turn the column \"question1\" into a list of lists,  we will use the GenSim package's function \"simple preprocess\" to convert each row into a collection of tokens, such as \"what is your age\" -> \"what,\" \"is,\" \"your,\" \"age.\""
      ]
    },
    {
      "cell_type": "code",
      "metadata": {
        "id": "C33f9aMPg6ZE"
      },
      "source": [
        "import gensim"
      ],
      "execution_count": null,
      "outputs": []
    },
    {
      "cell_type": "code",
      "metadata": {
        "id": "TXTSFrHg_qyw"
      },
      "source": [
        "def read_questions(row,column_name):\n",
        "    return gensim.utils.simple_preprocess(str(row[column_name]).encode('utf-8'))\n",
        "    \n",
        "documents = []\n",
        "for index, row in df.iterrows():\n",
        "    documents.append(read_questions(row,\"question1\"))\n",
        "    if row[\"is_duplicate\"] == 0:\n",
        "        documents.append(read_questions(row,\"question2\"))"
      ],
      "execution_count": null,
      "outputs": []
    },
    {
      "cell_type": "code",
      "metadata": {
        "colab": {
          "base_uri": "https://localhost:8080/"
        },
        "id": "rCy3djVw_t6m",
        "outputId": "afd92390-9a25-4212-a9d4-02e4d28dc4f7"
      },
      "source": [
        "print(\"List of lists. Let's confirm: \", type(documents), \" of \", type(documents[0]))"
      ],
      "execution_count": null,
      "outputs": [
        {
          "output_type": "stream",
          "name": "stdout",
          "text": [
            "List of lists. Let's confirm:  <class 'list'>  of  <class 'list'>\n"
          ]
        }
      ]
    },
    {
      "cell_type": "markdown",
      "metadata": {
        "id": "pDUhqhDNxWPb"
      },
      "source": [
        "Word2Vec will now retrieve all unique terms from all \"documents\" sub-lists, building the vocabulary (individual words)."
      ]
    },
    {
      "cell_type": "code",
      "metadata": {
        "id": "dqpHRO-q_xdu"
      },
      "source": [
        "model = gensim.models.Word2Vec(size=150, window=10, min_count=2, sg=1, workers=10)\n",
        "model.build_vocab(documents)  # prepare the model vocabulary"
      ],
      "execution_count": null,
      "outputs": []
    },
    {
      "cell_type": "markdown",
      "metadata": {
        "id": "IcI2dJWt0Ln5"
      },
      "source": [
        "We have defined five parameters that we utilized to construct a Word2Vec model above:\n",
        "\n",
        "> **Size**: The size of word vectors refers to their dimensionality. It specifies how many tokens are utilized to represent each word. Rule-of-thumb: If a dataset is tiny, so should its size be. If a dataset is enormous, the size should be significant as well. It's a matter of fine-tuning.\n",
        "\n",
        "> **Window**: The most significant possible distance between the target word and its surrounding word. Take, for example, the four-word sentence \"panda is an animal\" (suppose that we do not exclude the stop words). If the window size is 2, the terms \"is\" and \"an\" have a direct effect on the vector of the word \"panda.\" As a general rule, a narrower window should display more closely linked terms (of course, the exclusion of stop words should be considered).\n",
        "\n",
        "> **Min** **count**: Ignores any words whose overall frequency is less than this value. For example, if the word frequency is shallow, this term may be deemed insignificant.\n",
        "\n",
        "> **Sg**: Chooses the training algorithm: 1 for Skip-Gram and 0 for CBOW (Continuous Bag of Words).\n",
        "\n",
        "> **Workers**: The number of worker threads utilized to train the model."
      ]
    },
    {
      "cell_type": "code",
      "metadata": {
        "colab": {
          "base_uri": "https://localhost:8080/"
        },
        "id": "yGjLygm7_2VT",
        "outputId": "7ab1d3e2-77ae-476b-d5f2-7e58711de6ff"
      },
      "source": [
        "model.train(sentences=documents, total_examples=len(documents), epochs=model.iter)"
      ],
      "execution_count": null,
      "outputs": [
        {
          "output_type": "stream",
          "name": "stderr",
          "text": [
            "/usr/local/lib/python3.7/dist-packages/ipykernel_launcher.py:1: DeprecationWarning: Call to deprecated `iter` (Attribute will be removed in 4.0.0, use self.epochs instead).\n",
            "  \"\"\"Entry point for launching an IPython kernel.\n"
          ]
        },
        {
          "output_type": "execute_result",
          "data": {
            "text/plain": [
              "(25465884, 35144510)"
            ]
          },
          "metadata": {},
          "execution_count": 12
        }
      ]
    },
    {
      "cell_type": "markdown",
      "metadata": {
        "id": "TVfv2JFd5tJa"
      },
      "source": [
        "We completed the training of our Word2Vec model. Next, we drop the softmax layer and use the 47366 x 150 weight matrix as our word embedding lookup table. The only aim was to obtain the hidden layer's weights. These weights are the word embeddings that we had to learn. We no longer require the entire Word2Vec network once we know these word embeddings.\n"
      ]
    },
    {
      "cell_type": "markdown",
      "metadata": {
        "id": "XCIt3YWS7yFY"
      },
      "source": [
        "### **Examining the trained Word2Vec model**"
      ]
    },
    {
      "cell_type": "code",
      "metadata": {
        "colab": {
          "base_uri": "https://localhost:8080/"
        },
        "id": "C1iT2MBr_3Vk",
        "outputId": "5193c51f-61e9-4534-9665-785a65bd3772"
      },
      "source": [
        "word_vectors = model.wv\n",
        "count = 0\n",
        "for word in word_vectors.vocab:\n",
        "    if count<10:\n",
        "        print(word)\n",
        "        count += 1\n",
        "    else:\n",
        "        break"
      ],
      "execution_count": null,
      "outputs": [
        {
          "output_type": "stream",
          "name": "stdout",
          "text": [
            "what\n",
            "is\n",
            "the\n",
            "step\n",
            "by\n",
            "guide\n",
            "to\n",
            "invest\n",
            "in\n",
            "share\n"
          ]
        }
      ]
    },
    {
      "cell_type": "code",
      "metadata": {
        "colab": {
          "base_uri": "https://localhost:8080/"
        },
        "id": "zTOeIFFH_7H8",
        "outputId": "6cecfd58-8b75-4f49-cb5a-65a4c1d61a2a"
      },
      "source": [
        "len(word_vectors.vocab)"
      ],
      "execution_count": null,
      "outputs": [
        {
          "output_type": "execute_result",
          "data": {
            "text/plain": [
              "47336"
            ]
          },
          "metadata": {},
          "execution_count": 14
        }
      ]
    },
    {
      "cell_type": "code",
      "metadata": {
        "colab": {
          "base_uri": "https://localhost:8080/"
        },
        "id": "f1J1LNeD_7LJ",
        "outputId": "19bb7474-df3b-446c-ef27-a06038d09ed5"
      },
      "source": [
        "vector = model.wv[\"immigration\"]  # numpy vector of a word\n",
        "len(vector)"
      ],
      "execution_count": null,
      "outputs": [
        {
          "output_type": "execute_result",
          "data": {
            "text/plain": [
              "150"
            ]
          },
          "metadata": {},
          "execution_count": 15
        }
      ]
    },
    {
      "cell_type": "code",
      "metadata": {
        "colab": {
          "base_uri": "https://localhost:8080/"
        },
        "id": "I5x8ifIb_7OK",
        "outputId": "257d4b0b-0933-4763-e0c7-8c9fab400a56"
      },
      "source": [
        "vector"
      ],
      "execution_count": null,
      "outputs": [
        {
          "output_type": "execute_result",
          "data": {
            "text/plain": [
              "array([-4.52022433e-01,  3.16222519e-01,  1.53702825e-01, -1.44746810e-01,\n",
              "        1.17065787e-01, -1.52048424e-01,  3.12471747e-01,  9.25444290e-02,\n",
              "        9.89916921e-02,  7.75572658e-01, -1.60548031e-01, -5.51113039e-02,\n",
              "        3.51541847e-01, -1.16076127e-01, -5.02400696e-01,  1.43737253e-02,\n",
              "        1.84996780e-02,  3.06932747e-01, -7.78194442e-02,  3.17026265e-02,\n",
              "        6.77375257e-01, -4.09299210e-02,  5.86595178e-01,  2.45095253e-01,\n",
              "       -1.75730884e-01, -3.15176994e-01,  5.62177002e-02,  2.71416128e-01,\n",
              "        4.06637251e-01,  1.00435935e-01,  3.50527436e-01, -5.57179213e-01,\n",
              "        1.40575498e-01,  1.02940053e-02,  6.92531705e-01, -4.02675837e-01,\n",
              "        1.92075700e-01,  6.28755569e-01,  2.37363979e-01,  1.91789538e-01,\n",
              "        4.27467793e-01, -1.87981963e-01,  1.63399771e-01,  3.81378412e-01,\n",
              "        5.33751786e-01, -5.61742663e-01, -4.07187454e-02,  6.15779996e-01,\n",
              "       -1.10355462e-03,  3.26533467e-01, -7.54533485e-02, -2.67795235e-01,\n",
              "       -2.28524044e-01, -8.26275945e-01, -1.62346229e-01, -3.09256651e-03,\n",
              "       -3.43467653e-01,  2.44308054e-01,  2.56552454e-02,  3.88797641e-01,\n",
              "        8.90870988e-02, -2.14748576e-01, -4.91268069e-01, -1.00405037e+00,\n",
              "        4.90960106e-02,  5.86723506e-01, -7.55801573e-02, -3.35179418e-01,\n",
              "        5.48229218e-02,  1.00737467e-01,  1.06003113e-01,  5.74357450e-01,\n",
              "        6.68536425e-02,  2.99791396e-01, -9.41448957e-02, -5.34360632e-02,\n",
              "       -9.74781662e-02,  1.37190774e-01,  1.29007831e-01, -3.08804661e-01,\n",
              "       -9.14781392e-02, -3.97301406e-01,  4.80745226e-01, -3.56665343e-01,\n",
              "        2.99190700e-01, -3.80224347e-01, -1.01668037e-01, -3.97333443e-01,\n",
              "       -2.54826516e-01,  4.76308852e-01,  1.08606339e-01, -5.96682839e-02,\n",
              "       -5.96849658e-02, -7.77538493e-02,  2.12744951e-01, -3.04474533e-01,\n",
              "        6.69947714e-02,  1.56788558e-01, -1.26394570e-01,  1.72693104e-01,\n",
              "        3.27640981e-03, -3.95731300e-01, -1.80407703e-01, -7.36988857e-02,\n",
              "       -3.29251289e-02, -2.18573138e-01, -5.74796274e-03, -6.71569407e-02,\n",
              "       -8.68094340e-02,  7.80883491e-01,  1.47648612e-02, -1.93089768e-01,\n",
              "       -1.47817135e-01, -3.54248248e-02, -5.03760397e-01,  2.54380405e-01,\n",
              "        2.40142077e-01,  2.46857315e-01, -2.81130560e-02,  8.63986090e-02,\n",
              "       -8.74257297e-04,  5.00720680e-01, -2.00013176e-01,  5.92941523e-01,\n",
              "        4.78408068e-01,  8.80065620e-01,  5.72070062e-01, -6.27822340e-01,\n",
              "        3.76332730e-01, -6.09255508e-02, -2.26505902e-02, -2.58805186e-01,\n",
              "       -2.78729796e-01,  4.60395455e-01, -3.48053277e-01,  3.25564034e-02,\n",
              "       -3.30899581e-02,  1.94970012e-01,  5.22586882e-01,  4.19348121e-01,\n",
              "        4.33123618e-01,  4.47637767e-01,  2.10933406e-02, -1.91802770e-01,\n",
              "       -8.37813765e-02,  1.83616485e-02,  2.19961271e-01,  6.13572542e-03,\n",
              "       -3.02376121e-01,  2.99850982e-02], dtype=float32)"
            ]
          },
          "metadata": {},
          "execution_count": 16
        }
      ]
    },
    {
      "cell_type": "markdown",
      "metadata": {
        "id": "b_sFN-Bk8Fk_"
      },
      "source": [
        "Using t-SNE, we can now generate a two-dimensional semantic representation of word embeddings."
      ]
    },
    {
      "cell_type": "code",
      "metadata": {
        "colab": {
          "base_uri": "https://localhost:8080/"
        },
        "id": "XOWHVmMjAG-b",
        "outputId": "3debc24f-e4ab-487b-d88e-b64832c972ea"
      },
      "source": [
        "wanted_words = []\n",
        "count = 0\n",
        "for word in word_vectors.vocab:\n",
        "    if count<150:\n",
        "        wanted_words.append(word)\n",
        "        count += 1\n",
        "    else:\n",
        "        break\n",
        "wanted_vocab = dict((k, word_vectors.vocab[k]) for k in wanted_words if k in word_vectors.vocab)\n",
        "wanted_vocab"
      ],
      "execution_count": null,
      "outputs": [
        {
          "output_type": "execute_result",
          "data": {
            "text/plain": [
              "{'about': <gensim.models.keyedvectors.Vocab at 0x7f0cc14f8a90>,\n",
              " 'active': <gensim.models.keyedvectors.Vocab at 0x7f0cc14f8c50>,\n",
              " 'am': <gensim.models.keyedvectors.Vocab at 0x7f0cc14f8210>,\n",
              " 'an': <gensim.models.keyedvectors.Vocab at 0x7f0cc14fad10>,\n",
              " 'and': <gensim.models.keyedvectors.Vocab at 0x7f0cc14f8650>,\n",
              " 'are': <gensim.models.keyedvectors.Vocab at 0x7f0cc14fa210>,\n",
              " 'astrology': <gensim.models.keyedvectors.Vocab at 0x7f0cc14f8850>,\n",
              " 'back': <gensim.models.keyedvectors.Vocab at 0x7f0ce9a11d10>,\n",
              " 'be': <gensim.models.keyedvectors.Vocab at 0x7f0cc14f80d0>,\n",
              " 'buy': <gensim.models.keyedvectors.Vocab at 0x7f0cc14f8b50>,\n",
              " 'by': <gensim.models.keyedvectors.Vocab at 0x7f0ce9a11090>,\n",
              " 'can': <gensim.models.keyedvectors.Vocab at 0x7f0ce9a11510>,\n",
              " 'canada': <gensim.models.keyedvectors.Vocab at 0x7f0cc14faa90>,\n",
              " 'cap': <gensim.models.keyedvectors.Vocab at 0x7f0cc14f8910>,\n",
              " 'capricorn': <gensim.models.keyedvectors.Vocab at 0x7f0cc14f8890>,\n",
              " 'carbon': <gensim.models.keyedvectors.Vocab at 0x7f0cc14f8710>,\n",
              " 'card': <gensim.models.keyedvectors.Vocab at 0x7f0cc14fa950>,\n",
              " 'change': <gensim.models.keyedvectors.Vocab at 0x7f0cc14fa810>,\n",
              " 'charter': <gensim.models.keyedvectors.Vocab at 0x7f0cc14f8fd0>,\n",
              " 'comments': <gensim.models.keyedvectors.Vocab at 0x7f0cc14fa510>,\n",
              " 'company': <gensim.models.keyedvectors.Vocab at 0x7f0cc14f8f50>,\n",
              " 'compare': <gensim.models.keyedvectors.Vocab at 0x7f0cc14faa10>,\n",
              " 'components': <gensim.models.keyedvectors.Vocab at 0x7f0cc14fa450>,\n",
              " 'connection': <gensim.models.keyedvectors.Vocab at 0x7f0cc1558e50>,\n",
              " 'current': <gensim.models.keyedvectors.Vocab at 0x7f0cc14fabd0>,\n",
              " 'dcx': <gensim.models.keyedvectors.Vocab at 0x7f0cc14fa050>,\n",
              " 'di': <gensim.models.keyedvectors.Vocab at 0x7f0cc14f8750>,\n",
              " 'diamond': <gensim.models.keyedvectors.Vocab at 0x7f0ce9a111d0>,\n",
              " 'dissolve': <gensim.models.keyedvectors.Vocab at 0x7f0cc14f8550>,\n",
              " 'divided': <gensim.models.keyedvectors.Vocab at 0x7f0cc14f8490>,\n",
              " 'dns': <gensim.models.keyedvectors.Vocab at 0x7f0cc14f8190>,\n",
              " 'do': <gensim.models.keyedvectors.Vocab at 0x7f0cc14f8e10>,\n",
              " 'does': <gensim.models.keyedvectors.Vocab at 0x7f0cc14f8950>,\n",
              " 'durability': <gensim.models.keyedvectors.Vocab at 0x7f0cc14fa350>,\n",
              " 'easy': <gensim.models.keyedvectors.Vocab at 0x7f0cc14fa5d0>,\n",
              " 'experience': <gensim.models.keyedvectors.Vocab at 0x7f0cc14fa750>,\n",
              " 'far': <gensim.models.keyedvectors.Vocab at 0x7f0cc14f8c90>,\n",
              " 'find': <gensim.models.keyedvectors.Vocab at 0x7f0cc14f83d0>,\n",
              " 'first': <gensim.models.keyedvectors.Vocab at 0x7f0cc14fa6d0>,\n",
              " 'fish': <gensim.models.keyedvectors.Vocab at 0x7f0cc14f87d0>,\n",
              " 'for': <gensim.models.keyedvectors.Vocab at 0x7f0cc14fa090>,\n",
              " 'free': <gensim.models.keyedvectors.Vocab at 0x7f0cc14fa0d0>,\n",
              " 'fresnel': <gensim.models.keyedvectors.Vocab at 0x7f0cc14fa1d0>,\n",
              " 'from': <gensim.models.keyedvectors.Vocab at 0x7f0cc14f8c10>,\n",
              " 'games': <gensim.models.keyedvectors.Vocab at 0x7f0cc14f8d50>,\n",
              " 'geologist': <gensim.models.keyedvectors.Vocab at 0x7f0cc14f8dd0>,\n",
              " 'good': <gensim.models.keyedvectors.Vocab at 0x7f0cc14f8d90>,\n",
              " 'government': <gensim.models.keyedvectors.Vocab at 0x7f0ce9a11b90>,\n",
              " 'green': <gensim.models.keyedvectors.Vocab at 0x7f0cc14fa910>,\n",
              " 'guide': <gensim.models.keyedvectors.Vocab at 0x7f0ce9a11210>,\n",
              " 'hack': <gensim.models.keyedvectors.Vocab at 0x7f0cc14f8f90>,\n",
              " 'hacking': <gensim.models.keyedvectors.Vocab at 0x7f0cc14f8090>,\n",
              " 'happen': <gensim.models.keyedvectors.Vocab at 0x7f0ce9a114d0>,\n",
              " 'how': <gensim.models.keyedvectors.Vocab at 0x7f0ce9a11550>,\n",
              " 'if': <gensim.models.keyedvectors.Vocab at 0x7f0ce9a11410>,\n",
              " 'immigration': <gensim.models.keyedvectors.Vocab at 0x7f0cc14faa50>,\n",
              " 'in': <gensim.models.keyedvectors.Vocab at 0x7f0ce9a11490>,\n",
              " 'increase': <gensim.models.keyedvectors.Vocab at 0x7f0cc1558c10>,\n",
              " 'increased': <gensim.models.keyedvectors.Vocab at 0x7f0cc14f8110>,\n",
              " 'india': <gensim.models.keyedvectors.Vocab at 0x7f0ce9a11190>,\n",
              " 'indian': <gensim.models.keyedvectors.Vocab at 0x7f0ce9a110d0>,\n",
              " 'instead': <gensim.models.keyedvectors.Vocab at 0x7f0cc14f8ed0>,\n",
              " 'international': <gensim.models.keyedvectors.Vocab at 0x7f0cc14fac10>,\n",
              " 'internet': <gensim.models.keyedvectors.Vocab at 0x7f0cc1558510>,\n",
              " 'invest': <gensim.models.keyedvectors.Vocab at 0x7f0ce9a11cd0>,\n",
              " 'is': <gensim.models.keyedvectors.Vocab at 0x7f0cc1583ed0>,\n",
              " 'it': <gensim.models.keyedvectors.Vocab at 0x7f0cc14f8390>,\n",
              " 'its': <gensim.models.keyedvectors.Vocab at 0x7f0cc14fa410>,\n",
              " 'japan': <gensim.models.keyedvectors.Vocab at 0x7f0cc14faad0>,\n",
              " 'keeps': <gensim.models.keyedvectors.Vocab at 0x7f0cc14f8bd0>,\n",
              " 'koh': <gensim.models.keyedvectors.Vocab at 0x7f0ce9a11c50>,\n",
              " 'kohinoor': <gensim.models.keyedvectors.Vocab at 0x7f0ce9a11310>,\n",
              " 'laptops': <gensim.models.keyedvectors.Vocab at 0x7f0cc14fa3d0>,\n",
              " 'laws': <gensim.models.keyedvectors.Vocab at 0x7f0cc14fa7d0>,\n",
              " 'learn': <gensim.models.keyedvectors.Vocab at 0x7f0cc14fa610>,\n",
              " 'like': <gensim.models.keyedvectors.Vocab at 0x7f0cc14fa790>,\n",
              " 'lonely': <gensim.models.keyedvectors.Vocab at 0x7f0cc14f82d0>,\n",
              " 'make': <gensim.models.keyedvectors.Vocab at 0x7f0cc14fa550>,\n",
              " 'manipulation': <gensim.models.keyedvectors.Vocab at 0x7f0cc14fad50>,\n",
              " 'market': <gensim.models.keyedvectors.Vocab at 0x7f0ce9a11290>,\n",
              " 'master': <gensim.models.keyedvectors.Vocab at 0x7f0cc14fac50>,\n",
              " 'math': <gensim.models.keyedvectors.Vocab at 0x7f0cc14f8450>,\n",
              " 'me': <gensim.models.keyedvectors.Vocab at 0x7f0cc14f8ad0>,\n",
              " 'mean': <gensim.models.keyedvectors.Vocab at 0x7f0cc14fab90>,\n",
              " 'mentally': <gensim.models.keyedvectors.Vocab at 0x7f0cc14f8250>,\n",
              " 'methane': <gensim.models.keyedvectors.Vocab at 0x7f0cc14f86d0>,\n",
              " 'method': <gensim.models.keyedvectors.Vocab at 0x7f0cc14fa110>,\n",
              " 'moon': <gensim.models.keyedvectors.Vocab at 0x7f0cc14f8990>,\n",
              " 'motorola': <gensim.models.keyedvectors.Vocab at 0x7f0cc14f8f10>,\n",
              " 'my': <gensim.models.keyedvectors.Vocab at 0x7f0cc15587d0>,\n",
              " 'noor': <gensim.models.keyedvectors.Vocab at 0x7f0ce9a11e90>,\n",
              " 'of': <gensim.models.keyedvectors.Vocab at 0x7f0ce9a116d0>,\n",
              " 'on': <gensim.models.keyedvectors.Vocab at 0x7f0cc14facd0>,\n",
              " 'one': <gensim.models.keyedvectors.Vocab at 0x7f0cc14f8510>,\n",
              " 'oxide': <gensim.models.keyedvectors.Vocab at 0x7f0cc14f8790>,\n",
              " 'phone': <gensim.models.keyedvectors.Vocab at 0x7f0cc14f8cd0>,\n",
              " 'physics': <gensim.models.keyedvectors.Vocab at 0x7f0cc14fa590>,\n",
              " 'presidency': <gensim.models.keyedvectors.Vocab at 0x7f0cc14fab50>,\n",
              " 'quikly': <gensim.models.keyedvectors.Vocab at 0x7f0cc14f85d0>,\n",
              " 'read': <gensim.models.keyedvectors.Vocab at 0x7f0cc14fa490>,\n",
              " 'reliability': <gensim.models.keyedvectors.Vocab at 0x7f0cc14fa390>,\n",
              " 'remainder': <gensim.models.keyedvectors.Vocab at 0x7f0cc14f8350>,\n",
              " 'rising': <gensim.models.keyedvectors.Vocab at 0x7f0cc14f89d0>,\n",
              " 'salt': <gensim.models.keyedvectors.Vocab at 0x7f0cc14f8690>,\n",
              " 'say': <gensim.models.keyedvectors.Vocab at 0x7f0cc14f8a50>,\n",
              " 'separation': <gensim.models.keyedvectors.Vocab at 0x7f0cc14fa150>,\n",
              " 'sexual': <gensim.models.keyedvectors.Vocab at 0x7f0cc14fa710>,\n",
              " 'share': <gensim.models.keyedvectors.Vocab at 0x7f0ce9a11590>,\n",
              " 'should': <gensim.models.keyedvectors.Vocab at 0x7f0cc14f8b10>,\n",
              " 'slits': <gensim.models.keyedvectors.Vocab at 0x7f0cc14fa190>,\n",
              " 'solve': <gensim.models.keyedvectors.Vocab at 0x7f0cc14f8310>,\n",
              " 'some': <gensim.models.keyedvectors.Vocab at 0x7f0cc14fa250>,\n",
              " 'speed': <gensim.models.keyedvectors.Vocab at 0x7f0cc1558cd0>,\n",
              " 'status': <gensim.models.keyedvectors.Vocab at 0x7f0cc14fa850>,\n",
              " 'step': <gensim.models.keyedvectors.Vocab at 0x7f0ce9a11110>,\n",
              " 'stole': <gensim.models.keyedvectors.Vocab at 0x7f0ce9a11e10>,\n",
              " 'story': <gensim.models.keyedvectors.Vocab at 0x7f0ce9a11390>,\n",
              " 'student': <gensim.models.keyedvectors.Vocab at 0x7f0cc14fa890>,\n",
              " 'students': <gensim.models.keyedvectors.Vocab at 0x7f0cc14fac90>,\n",
              " 'sugar': <gensim.models.keyedvectors.Vocab at 0x7f0cc14f8610>,\n",
              " 'sun': <gensim.models.keyedvectors.Vocab at 0x7f0cc14f88d0>,\n",
              " 'survive': <gensim.models.keyedvectors.Vocab at 0x7f0cc14f8810>,\n",
              " 'technicians': <gensim.models.keyedvectors.Vocab at 0x7f0cc14fa2d0>,\n",
              " 'tell': <gensim.models.keyedvectors.Vocab at 0x7f0cc14fa310>,\n",
              " 'that': <gensim.models.keyedvectors.Vocab at 0x7f0cc14f8a10>,\n",
              " 'the': <gensim.models.keyedvectors.Vocab at 0x7f0ce9a11850>,\n",
              " 'they': <gensim.models.keyedvectors.Vocab at 0x7f0cc14fa9d0>,\n",
              " 'things': <gensim.models.keyedvectors.Vocab at 0x7f0cc14fa290>,\n",
              " 'through': <gensim.models.keyedvectors.Vocab at 0x7f0cc14f8150>,\n",
              " 'tiago': <gensim.models.keyedvectors.Vocab at 0x7f0cc14f8b90>,\n",
              " 'to': <gensim.models.keyedvectors.Vocab at 0x7f0ce9a113d0>,\n",
              " 'trump': <gensim.models.keyedvectors.Vocab at 0x7f0cc14fab10>,\n",
              " 'us': <gensim.models.keyedvectors.Vocab at 0x7f0cc14fa990>,\n",
              " 'use': <gensim.models.keyedvectors.Vocab at 0x7f0cc14f8e90>,\n",
              " 'using': <gensim.models.keyedvectors.Vocab at 0x7f0cc1558750>,\n",
              " 'very': <gensim.models.keyedvectors.Vocab at 0x7f0cc14f8290>,\n",
              " 'video': <gensim.models.keyedvectors.Vocab at 0x7f0cc14f8d10>,\n",
              " 'visa': <gensim.models.keyedvectors.Vocab at 0x7f0cc14fa8d0>,\n",
              " 'vpn': <gensim.models.keyedvectors.Vocab at 0x7f0cc14f8050>,\n",
              " 'was': <gensim.models.keyedvectors.Vocab at 0x7f0cc14fa650>,\n",
              " 'water': <gensim.models.keyedvectors.Vocab at 0x7f0cc14f8590>,\n",
              " 'what': <gensim.models.keyedvectors.Vocab at 0x7f0ce9a675d0>,\n",
              " 'when': <gensim.models.keyedvectors.Vocab at 0x7f0cc14f8410>,\n",
              " 'which': <gensim.models.keyedvectors.Vocab at 0x7f0cc14f84d0>,\n",
              " 'while': <gensim.models.keyedvectors.Vocab at 0x7f0cc1558a10>,\n",
              " 'why': <gensim.models.keyedvectors.Vocab at 0x7f0cc14f81d0>,\n",
              " 'would': <gensim.models.keyedvectors.Vocab at 0x7f0ce9a11250>,\n",
              " 'you': <gensim.models.keyedvectors.Vocab at 0x7f0cc14f8e50>,\n",
              " 'your': <gensim.models.keyedvectors.Vocab at 0x7f0cc14fa690>,\n",
              " 'youtube': <gensim.models.keyedvectors.Vocab at 0x7f0cc14fa4d0>}"
            ]
          },
          "metadata": {},
          "execution_count": 17
        }
      ]
    },
    {
      "cell_type": "code",
      "metadata": {
        "id": "zIYllAdjBa5m"
      },
      "source": [
        "import sklearn\n",
        "from sklearn.manifold import TSNE\n",
        "import matplotlib.pyplot as plt"
      ],
      "execution_count": null,
      "outputs": []
    },
    {
      "cell_type": "code",
      "metadata": {
        "id": "AapiJfXnAHv5",
        "colab": {
          "base_uri": "https://localhost:8080/"
        },
        "outputId": "89887259-34c5-4da8-aaf5-0bff827dd39d"
      },
      "source": [
        "X = model[wanted_vocab] # X is an array of word vectors, each vector containing 150 tokens\n",
        "tsne_model = TSNE(perplexity=40, n_components=2, init=\"pca\", n_iter=5000, random_state=23)\n",
        "Y = tsne_model.fit_transform(X)"
      ],
      "execution_count": null,
      "outputs": [
        {
          "output_type": "stream",
          "name": "stderr",
          "text": [
            "/usr/local/lib/python3.7/dist-packages/ipykernel_launcher.py:1: DeprecationWarning: Call to deprecated `__getitem__` (Method will be removed in 4.0.0, use self.wv.__getitem__() instead).\n",
            "  \"\"\"Entry point for launching an IPython kernel.\n"
          ]
        }
      ]
    },
    {
      "cell_type": "code",
      "metadata": {
        "colab": {
          "base_uri": "https://localhost:8080/",
          "height": 578
        },
        "id": "rqc-DfemAMAe",
        "outputId": "e99fbc76-9890-47dd-d9f4-6c1541e5074c"
      },
      "source": [
        "#Plot the t-SNE output\n",
        "fig, ax = plt.subplots(figsize=(20,10))\n",
        "ax.scatter(Y[:, 0], Y[:, 1])\n",
        "words = list(wanted_vocab)\n",
        "for i, word in enumerate(words):\n",
        "    plt.annotate(word, xy=(Y[i, 0], Y[i, 1]))\n",
        "ax.set_yticklabels([]) #Hide ticks\n",
        "ax.set_xticklabels([]) #Hide ticks\n",
        "_ = plt.show()"
      ],
      "execution_count": null,
      "outputs": [
        {
          "output_type": "display_data",
          "data": {
            "image/png": "[encoded data removed]",
            "text/plain": [
              "<Figure size 1440x720 with 1 Axes>"
            ]
          },
          "metadata": {
            "needs_background": "light"
          }
        }
      ]
    },
    {
      "cell_type": "markdown",
      "metadata": {
        "id": "W9m0JTc18UcY"
      },
      "source": [
        "We can see that the words \"salt\", \"water\", \"methane\", \"dissolve\" etc., are close to each other. This means that the words occured in the same context in the corpus."
      ]
    },
    {
      "cell_type": "code",
      "metadata": {
        "id": "WsWGO6zQBkTw"
      },
      "source": [
        ""
      ],
      "execution_count": null,
      "outputs": []
    }
  ]
}